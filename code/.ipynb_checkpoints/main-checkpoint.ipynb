{
 "cells": [
  {
   "cell_type": "code",
   "execution_count": 2,
   "id": "8d616cc0-79f1-4c52-9f92-364dd0396147",
   "metadata": {},
   "outputs": [],
   "source": [
    "import pandas as pd\n",
    "import numpy as np\n",
    "import matplotlib.pyplot as plt\n",
    "import seaborn as sns"
   ]
  },
  {
   "cell_type": "code",
   "execution_count": 6,
   "id": "0bfc9a95-475e-4e28-9dab-98cf79416ef0",
   "metadata": {},
   "outputs": [
    {
     "name": "stdout",
     "output_type": "stream",
     "text": [
      "Test Python\n"
     ]
    }
   ],
   "source": [
    "print(\"Test Python\")\n"
   ]
  },
  {
   "cell_type": "code",
   "execution_count": null,
   "id": "f29b9057-26a5-4f1b-b520-a43735c77dc0",
   "metadata": {},
   "outputs": [],
   "source": [
    "data_source_path = '../src/loan_default_data.xlsx'\n",
    "\n",
    "df = pd.read_excel(data_source_path)\n",
    "\n",
    "df.head()"
   ]
  },
  {
   "cell_type": "code",
   "execution_count": 5,
   "id": "efe946df-5061-4e7e-9ffd-3ce66d78f862",
   "metadata": {},
   "outputs": [
    {
     "name": "stdout",
     "output_type": "stream",
     "text": [
      "Total number of rows: 38480\n",
      "Total number of columns: 37\n"
     ]
    }
   ],
   "source": [
    "data_shape = df.shape\n",
    "total_rows = data_shape[0]\n",
    "total_columns = data_shape[1]\n",
    "\n",
    "print(f'Total number of rows: {total_rows}')\n",
    "print(f'Total number of columns: {total_columns}')\n"
   ]
  },
  {
   "cell_type": "code",
   "execution_count": null,
   "id": "ab621677-7e0a-4dff-a57f-5188280a5b47",
   "metadata": {},
   "outputs": [],
   "source": []
  }
 ],
 "metadata": {
  "kernelspec": {
   "display_name": "Python 3 (ipykernel)",
   "language": "python",
   "name": "python3"
  },
  "language_info": {
   "codemirror_mode": {
    "name": "ipython",
    "version": 3
   },
   "file_extension": ".py",
   "mimetype": "text/x-python",
   "name": "python",
   "nbconvert_exporter": "python",
   "pygments_lexer": "ipython3",
   "version": "3.11.7"
  }
 },
 "nbformat": 4,
 "nbformat_minor": 5
}
